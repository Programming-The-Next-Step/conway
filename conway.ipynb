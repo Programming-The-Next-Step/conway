{
 "cells": [
  {
   "cell_type": "code",
   "execution_count": 1,
   "metadata": {},
   "outputs": [
    {
     "name": "stdout",
     "output_type": "stream",
     "text": [
      "pygame 1.9.6\n",
      "Hello from the pygame community. https://www.pygame.org/contribute.html\n"
     ]
    }
   ],
   "source": [
    "import pygame\n",
    "import numpy as np\n",
    "import math"
   ]
  },
  {
   "cell_type": "code",
   "execution_count": 2,
   "metadata": {},
   "outputs": [],
   "source": [
    "from pygame.locals import *"
   ]
  },
  {
   "cell_type": "code",
   "execution_count": 3,
   "metadata": {},
   "outputs": [
    {
     "data": {
      "text/plain": [
       "(6, 0)"
      ]
     },
     "execution_count": 3,
     "metadata": {},
     "output_type": "execute_result"
    }
   ],
   "source": [
    "pygame.init()"
   ]
  },
  {
   "cell_type": "code",
   "execution_count": 4,
   "metadata": {},
   "outputs": [],
   "source": [
    "# Colors \n",
    "black = (0, 0, 0) # alive cells \n",
    "white = (255, 255, 255) # dead cells \n",
    "green = (0, 200, 0) # start button \n",
    "red = (200, 0, 0) # stop button\n",
    "bright_green = (0, 255, 0) # to make the buttons light up when the mouse is over them\n",
    "bright_red = (255, 0, 0)\n",
    "\n",
    "# The window\n",
    "window_width = 400\n",
    "window_height = 600\n",
    "screen = pygame.display.set_mode((window_width, window_height))\n",
    "pygame.display.set_caption(\"Game of Life\")\n",
    "\n",
    "# The cells \n",
    "cell_width = 20\n",
    "cell_height = 20\n",
    "margin = 1"
   ]
  },
  {
   "cell_type": "code",
   "execution_count": 5,
   "metadata": {},
   "outputs": [],
   "source": [
    "# Matrix to store on/off values (can't generalize to non-square lattices)\n",
    "total_pixels = window_width * window_height \n",
    "cell_pixels = cell_width * cell_height \n",
    "n_cells = total_pixels / cell_pixels\n",
    "nrow = int(math.sqrt(n_cells))\n",
    "ncol = nrow \n",
    "X = np.zeros((nrow, ncol))"
   ]
  },
  {
   "cell_type": "code",
   "execution_count": 6,
   "metadata": {},
   "outputs": [],
   "source": [
    "running = True \n",
    "while running:\n",
    "    mouse = pygame.mouse.get_pos() # always track the mouse position\n",
    "    for event in pygame.event.get(): \n",
    "        if event.type == pygame.QUIT: # stop the loop if the user closes the window \n",
    "            running = False\n",
    "        elif event.type == pygame.MOUSEBUTTONDOWN: # if the user clicks\n",
    "            #change the x/y screen coordinates to grid coordinates\n",
    "            i = mouse[0] // (cell_width + margin) # row number \n",
    "            j = mouse[1] // (cell_height + margin) # column number \n",
    "            # set the clicked cell to 1\n",
    "            X[i][j] = 1\n",
    "            \n",
    "    # Set the screen background\n",
    "    screen.fill(black)\n",
    "        \n",
    "    # Draw the grid based on the matrix values\n",
    "    for i in range(nrow):\n",
    "        for j in range(ncol):\n",
    "            color = white\n",
    "            if X[i][j] == 1:\n",
    "                color = black\n",
    "            pygame.draw.rect(screen, color, ((cell_width + margin) * i + margin, # x-coordinates of the top-left hand corner \n",
    "                                             (cell_height + margin) * j + margin, # y-coordinates of the top-left hand corner\n",
    "                                             cell_width, cell_height))\n",
    "    \n",
    "    # Draw the buttons, bright if the mouse is on the button \n",
    "    if 70 < mouse[0] < 70 + 100 and 525 < mouse[1] < 525 + 50:\n",
    "        pygame.draw.rect(screen, bright_green, (70, 525, 100, 50))\n",
    "    else: \n",
    "        pygame.draw.rect(screen, green, (70, 525, 100, 50))\n",
    "        \n",
    "    if 230 < mouse[0] < 230 + 100 and 525 < mouse [1] < 525 + 50:\n",
    "        pygame.draw.rect(screen, bright_red, (230, 525, 100, 50))\n",
    "    else:\n",
    "        pygame.draw.rect(screen, red, (230, 525, 100, 50))\n",
    "        \n",
    "    def text_objects(text, font):\n",
    "        textSurface = font.render(text, True, black)\n",
    "        return textSurface, textSurface.get_rect()\n",
    "\n",
    "    smallText = pygame.font.Font(\"freesansbold.ttf\", 20)\n",
    "    textSurf, textRect = text_objects(\"START\", smallText)\n",
    "    textRect.center = ((70 + (100 / 2)), (525 + (50 / 2)))\n",
    "    screen.blit(textSurf, textRect)\n",
    " \n",
    "    # update the screen\n",
    "    pygame.display.flip()\n",
    "\n",
    "pygame.quit()\n",
    "quit()"
   ]
  },
  {
   "cell_type": "code",
   "execution_count": null,
   "metadata": {},
   "outputs": [],
   "source": [
    "# Find a way to quit the window without killing the kernel \n",
    "# Write the algorithm to begin after START \n",
    "# Add a function to second click and make the starting value 0 again (i.e., white again)"
   ]
  },
  {
   "cell_type": "code",
   "execution_count": null,
   "metadata": {},
   "outputs": [],
   "source": []
  }
 ],
 "metadata": {
  "kernelspec": {
   "display_name": "Python 3",
   "language": "python",
   "name": "python3"
  },
  "language_info": {
   "codemirror_mode": {
    "name": "ipython",
    "version": 3
   },
   "file_extension": ".py",
   "mimetype": "text/x-python",
   "name": "python",
   "nbconvert_exporter": "python",
   "pygments_lexer": "ipython3",
   "version": "3.7.6"
  }
 },
 "nbformat": 4,
 "nbformat_minor": 4
}
